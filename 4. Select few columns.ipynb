{
 "cells": [
  {
   "cell_type": "markdown",
   "id": "39c54d72",
   "metadata": {},
   "source": [
    "# Select few columns"
   ]
  },
  {
   "cell_type": "code",
   "execution_count": 1,
   "id": "c863a0c2",
   "metadata": {},
   "outputs": [],
   "source": [
    "from pyspark.sql import SparkSession"
   ]
  },
  {
   "cell_type": "code",
   "execution_count": 2,
   "id": "cab89af0",
   "metadata": {},
   "outputs": [],
   "source": [
    "spark = SparkSession.builder.appName('FileTech').getOrCreate()"
   ]
  },
  {
   "cell_type": "code",
   "execution_count": 3,
   "id": "56754cca",
   "metadata": {},
   "outputs": [],
   "source": [
    "df = spark.read.csv(r'C:\\Users\\filetech\\Documents\\MEGA\\Information\\Pyspark_tutorials\\data\\covid_19_clean_complete.csv', header = True)"
   ]
  },
  {
   "cell_type": "code",
   "execution_count": 4,
   "id": "05bc60b7",
   "metadata": {},
   "outputs": [
    {
     "name": "stdout",
     "output_type": "stream",
     "text": [
      "+--------------------+-------------------+---------+----------+----------+---------+------+---------+------+--------------------+\n",
      "|      Province/State|     Country/Region|      Lat|      Long|      Date|Confirmed|Deaths|Recovered|Active|          WHO Region|\n",
      "+--------------------+-------------------+---------+----------+----------+---------+------+---------+------+--------------------+\n",
      "|                null|        Afghanistan| 33.93911| 67.709953|2020-01-22|        0|     0|        0|     0|Eastern Mediterra...|\n",
      "|                null|            Albania|  41.1533|   20.1683|2020-01-22|        0|     0|        0|     0|              Europe|\n",
      "|                null|            Algeria|  28.0339|    1.6596|2020-01-22|        0|     0|        0|     0|              Africa|\n",
      "|                null|            Andorra|  42.5063|    1.5218|2020-01-22|        0|     0|        0|     0|              Europe|\n",
      "|                null|             Angola| -11.2027|   17.8739|2020-01-22|        0|     0|        0|     0|              Africa|\n",
      "|                null|Antigua and Barbuda|  17.0608|  -61.7964|2020-01-22|        0|     0|        0|     0|            Americas|\n",
      "|                null|          Argentina| -38.4161|  -63.6167|2020-01-22|        0|     0|        0|     0|            Americas|\n",
      "|                null|            Armenia|  40.0691|   45.0382|2020-01-22|        0|     0|        0|     0|              Europe|\n",
      "|Australian Capita...|          Australia| -35.4735|  149.0124|2020-01-22|        0|     0|        0|     0|     Western Pacific|\n",
      "|     New South Wales|          Australia| -33.8688|  151.2093|2020-01-22|        0|     0|        0|     0|     Western Pacific|\n",
      "|  Northern Territory|          Australia| -12.4634|  130.8456|2020-01-22|        0|     0|        0|     0|     Western Pacific|\n",
      "|          Queensland|          Australia| -27.4698|  153.0251|2020-01-22|        0|     0|        0|     0|     Western Pacific|\n",
      "|     South Australia|          Australia| -34.9285|  138.6007|2020-01-22|        0|     0|        0|     0|     Western Pacific|\n",
      "|            Tasmania|          Australia| -42.8821|  147.3272|2020-01-22|        0|     0|        0|     0|     Western Pacific|\n",
      "|            Victoria|          Australia| -37.8136|  144.9631|2020-01-22|        0|     0|        0|     0|     Western Pacific|\n",
      "|   Western Australia|          Australia| -31.9505|  115.8605|2020-01-22|        0|     0|        0|     0|     Western Pacific|\n",
      "|                null|            Austria|  47.5162|   14.5501|2020-01-22|        0|     0|        0|     0|              Europe|\n",
      "|                null|         Azerbaijan|  40.1431|   47.5769|2020-01-22|        0|     0|        0|     0|              Europe|\n",
      "|                null|            Bahamas|25.025885|-78.035889|2020-01-22|        0|     0|        0|     0|            Americas|\n",
      "|                null|            Bahrain|  26.0275|     50.55|2020-01-22|        0|     0|        0|     0|Eastern Mediterra...|\n",
      "+--------------------+-------------------+---------+----------+----------+---------+------+---------+------+--------------------+\n",
      "only showing top 20 rows\n",
      "\n"
     ]
    }
   ],
   "source": [
    "df.show()"
   ]
  },
  {
   "cell_type": "code",
   "execution_count": 7,
   "id": "7e950bd9",
   "metadata": {},
   "outputs": [],
   "source": [
    "# Country/Region Date Confirmed\n",
    "df_select = df.select('Country/Region','Date','Confirmed')"
   ]
  },
  {
   "cell_type": "code",
   "execution_count": 8,
   "id": "8622d741",
   "metadata": {},
   "outputs": [
    {
     "name": "stdout",
     "output_type": "stream",
     "text": [
      "+-------------------+----------+---------+\n",
      "|     Country/Region|      Date|Confirmed|\n",
      "+-------------------+----------+---------+\n",
      "|        Afghanistan|2020-01-22|        0|\n",
      "|            Albania|2020-01-22|        0|\n",
      "|            Algeria|2020-01-22|        0|\n",
      "|            Andorra|2020-01-22|        0|\n",
      "|             Angola|2020-01-22|        0|\n",
      "|Antigua and Barbuda|2020-01-22|        0|\n",
      "|          Argentina|2020-01-22|        0|\n",
      "|            Armenia|2020-01-22|        0|\n",
      "|          Australia|2020-01-22|        0|\n",
      "|          Australia|2020-01-22|        0|\n",
      "|          Australia|2020-01-22|        0|\n",
      "|          Australia|2020-01-22|        0|\n",
      "|          Australia|2020-01-22|        0|\n",
      "|          Australia|2020-01-22|        0|\n",
      "|          Australia|2020-01-22|        0|\n",
      "|          Australia|2020-01-22|        0|\n",
      "|            Austria|2020-01-22|        0|\n",
      "|         Azerbaijan|2020-01-22|        0|\n",
      "|            Bahamas|2020-01-22|        0|\n",
      "|            Bahrain|2020-01-22|        0|\n",
      "+-------------------+----------+---------+\n",
      "only showing top 20 rows\n",
      "\n"
     ]
    }
   ],
   "source": [
    "df_select.show()"
   ]
  },
  {
   "cell_type": "code",
   "execution_count": null,
   "id": "c1050d11",
   "metadata": {},
   "outputs": [],
   "source": []
  }
 ],
 "metadata": {
  "kernelspec": {
   "display_name": "Python 3 (ipykernel)",
   "language": "python",
   "name": "python3"
  },
  "language_info": {
   "codemirror_mode": {
    "name": "ipython",
    "version": 3
   },
   "file_extension": ".py",
   "mimetype": "text/x-python",
   "name": "python",
   "nbconvert_exporter": "python",
   "pygments_lexer": "ipython3",
   "version": "3.9.12"
  }
 },
 "nbformat": 4,
 "nbformat_minor": 5
}
