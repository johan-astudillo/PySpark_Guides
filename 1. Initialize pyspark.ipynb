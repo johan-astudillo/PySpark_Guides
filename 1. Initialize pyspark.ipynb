{
 "cells": [
  {
   "cell_type": "markdown",
   "id": "eebbf273",
   "metadata": {},
   "source": [
    "# initialize pyspark for www.filetechn.com"
   ]
  },
  {
   "cell_type": "code",
   "execution_count": 1,
   "id": "7b55fa31",
   "metadata": {},
   "outputs": [],
   "source": [
    "# For DataFrames\n",
    "from pyspark.sql import SparkSession"
   ]
  },
  {
   "cell_type": "code",
   "execution_count": 2,
   "id": "fd5c20df",
   "metadata": {},
   "outputs": [],
   "source": [
    "spark = SparkSession.builder.appName('FileTech').getOrCreate()"
   ]
  },
  {
   "cell_type": "code",
   "execution_count": 2,
   "id": "c174bf7f",
   "metadata": {},
   "outputs": [],
   "source": [
    "# For RDD\n",
    "from pyspark import SparkContext"
   ]
  },
  {
   "cell_type": "code",
   "execution_count": 3,
   "id": "feb34df6",
   "metadata": {},
   "outputs": [],
   "source": [
    "sc = SparkContext()"
   ]
  }
 ],
 "metadata": {
  "kernelspec": {
   "display_name": "Python 3 (ipykernel)",
   "language": "python",
   "name": "python3"
  },
  "language_info": {
   "codemirror_mode": {
    "name": "ipython",
    "version": 3
   },
   "file_extension": ".py",
   "mimetype": "text/x-python",
   "name": "python",
   "nbconvert_exporter": "python",
   "pygments_lexer": "ipython3",
   "version": "3.9.12"
  }
 },
 "nbformat": 4,
 "nbformat_minor": 5
}
